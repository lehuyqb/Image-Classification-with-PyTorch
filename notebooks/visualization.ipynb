{
 "cells": [
  {
   "cell_type": "markdown",
   "metadata": {},
   "source": [
    "# CIFAR-10 Image Classification with ResNet\n",
    "\n",
    "This notebook demonstrates:\n",
    "1. Loading and visualizing the CIFAR-10 dataset\n",
    "2. Data preprocessing and augmentation\n",
    "3. Model training and evaluation\n",
    "4. Visualizing model predictions and performance"
   ]
  },
  {
   "cell_type": "code",
   "execution_count": null,
   "metadata": {},
   "outputs": [],
   "source": [
    "import sys\n",
    "sys.path.append('..')\n",
    "\n",
    "import torch\n",
    "import torch.nn as nn\n",
    "import torch.optim as optim\n",
    "from torch.optim.lr_scheduler import CosineAnnealingLR\n",
    "import numpy as np\n",
    "import matplotlib.pyplot as plt\n",
    "import seaborn as sns\n",
    "from tqdm.notebook import tqdm\n",
    "\n",
    "from models.resnet import ResNet18\n",
    "from utils.data_loader import get_data_loaders, CLASSES\n",
    "from utils.transforms import get_train_transforms, get_test_transforms, inverse_normalize\n",
    "from utils.metrics import MetricsTracker"
   ]
  },
  {
   "cell_type": "markdown",
   "metadata": {},
   "source": [
    "## 1. Data Loading and Visualization"
   ]
  },
  {
   "cell_type": "code",
   "execution_count": null,
   "metadata": {},
   "outputs": [],
   "source": [
    "# Load data\n",
    "train_loader, val_loader, test_loader = get_data_loaders(\n",
    "    data_dir='../data',\n",
    "    batch_size=64,\n",
    "    num_workers=2\n",
    ")\n",
    "\n",
    "# Get a batch of training data\n",
    "images, labels = next(iter(train_loader))\n",
    "print(f\"Batch shape: {images.shape}\")\n",
    "print(f\"Labels shape: {labels.shape}\")"
   ]
  },
  {
   "cell_type": "code",
   "execution_count": null,
   "metadata": {},
   "outputs": [],
   "source": [
    "def show_images(images, labels, num_images=8):\n",
    "    \"\"\"Display a grid of images with their labels\"\"\"\n",
    "    plt.figure(figsize=(15, 8))\n",
    "    for i in range(num_images):\n",
    "        plt.subplot(2, num_images//2, i+1)\n",
    "        img = inverse_normalize(images[i])\n",
    "        img = img.permute(1, 2, 0).numpy()\n",
    "        img = np.clip(img, 0, 1)\n",
    "        plt.imshow(img)\n",
    "        plt.title(CLASSES[labels[i]])\n",
    "        plt.axis('off')\n",
    "    plt.tight_layout()\n",
    "    plt.show()\n",
    "\n",
    "# Display sample images\n",
    "show_images(images, labels)"
   ]
  },
  {
   "cell_type": "markdown",
   "metadata": {},
   "source": [
    "## 2. Data Augmentation Visualization"
   ]
  },
  {
   "cell_type": "code",
   "execution_count": null,
   "metadata": {},
   "outputs": [],
   "source": [
    "def show_augmentations(image, num_augments=5):\n",
    "    \"\"\"Display original image and its augmented versions\"\"\"\n",
    "    transform = get_train_transforms()\n",
    "    plt.figure(figsize=(15, 3))\n",
    "    \n",
    "    # Show original\n",
    "    plt.subplot(1, num_augments+1, 1)\n",
    "    img = inverse_normalize(image)\n",
    "    img = img.permute(1, 2, 0).numpy()\n",
    "    img = np.clip(img, 0, 1)\n",
    "    plt.imshow(img)\n",
    "    plt.title('Original')\n",
    "    plt.axis('off')\n",
    "    \n",
    "    # Show augmented versions\n",
    "    for i in range(num_augments):\n",
    "        plt.subplot(1, num_augments+1, i+2)\n",
    "        augmented = transform(inverse_normalize(image))\n",
    "        img = inverse_normalize(augmented)\n",
    "        img = img.permute(1, 2, 0).numpy()\n",
    "        img = np.clip(img, 0, 1)\n",
    "        plt.imshow(img)\n",
    "        plt.title(f'Augmented {i+1}')\n",
    "        plt.axis('off')\n",
    "    \n",
    "    plt.tight_layout()\n",
    "    plt.show()\n",
    "\n",
    "# Show augmentations for a single image\n",
    "show_augmentations(images[0])"
   ]
  },
  {
   "cell_type": "markdown",
   "metadata": {},
   "source": [
    "## 3. Model Training"
   ]
  },
  {
   "cell_type": "code",
   "execution_count": null,
   "metadata": {},
   "outputs": [],
   "source": [
    "# Set device\n",
    "device = torch.device(\"cuda\" if torch.cuda.is_available() else \"cpu\")\n",
    "print(f\"Using device: {device}\")\n",
    "\n",
    "# Initialize model and training components\n",
    "model = ResNet18().to(device)\n",
    "criterion = nn.CrossEntropyLoss()\n",
    "optimizer = optim.Adam(model.parameters(), lr=0.001)\n",
    "scheduler = CosineAnnealingLR(optimizer, T_max=10)\n",
    "\n",
    "# Initialize metrics trackers\n",
    "train_metrics = MetricsTracker()\n",
    "val_metrics = MetricsTracker()\n",
    "\n",
    "# Training history\n",
    "history = {\n",
    "    'train_loss': [],\n",
    "    'train_acc': [],\n",
    "    'val_loss': [],\n",
    "    'val_acc': []\n",
    "}"
   ]
  },
  {
   "cell_type": "code",
   "execution_count": null,
   "metadata": {},
   "outputs": [],
   "source": [
    "def train_epoch(model, train_loader, optimizer, criterion, device):\n",
    "    \"\"\"Train for one epoch\"\"\"\n",
    "    model.train()\n",
    "    train_metrics.reset()\n",
    "    \n",
    "    for inputs, labels in tqdm(train_loader, desc=\"Training\", leave=False):\n",
    "        inputs, labels = inputs.to(device), labels.to(device)\n",
    "        \n",
    "        optimizer.zero_grad()\n",
    "        outputs = model(inputs)\n",
    "        loss = criterion(outputs, labels)\n",
    "        loss.backward()\n",
    "        optimizer.step()\n",
    "        \n",
    "        train_metrics.update(outputs, labels, loss)\n",
    "    \n",
    "    return train_metrics.get_metrics()\n",
    "\n",
    "def validate(model, val_loader, criterion, device):\n",
    "    \"\"\"Validate the model\"\"\"\n",
    "    model.eval()\n",
    "    val_metrics.reset()\n",
    "    \n",
    "    with torch.no_grad():\n",
    "        for inputs, labels in tqdm(val_loader, desc=\"Validation\", leave=False):\n",
    "            inputs, labels = inputs.to(device), labels.to(device)\n",
    "            outputs = model(inputs)\n",
    "            loss = criterion(outputs, labels)\n",
    "            val_metrics.update(outputs, labels, loss)\n",
    "    \n",
    "    return val_metrics.get_metrics()"
   ]
  },
  {
   "cell_type": "code",
   "execution_count": null,
   "metadata": {},
   "outputs": [],
   "source": [
    "# Training loop\n",
    "num_epochs = 10\n",
    "best_val_acc = 0.0\n",
    "\n",
    "for epoch in range(num_epochs):\n",
    "    print(f\"\\nEpoch {epoch+1}/{num_epochs}\")\n",
    "    \n",
    "    # Train\n",
    "    train_results = train_epoch(model, train_loader, optimizer, criterion, device)\n",
    "    history['train_loss'].append(train_results['loss'])\n",
    "    history['train_acc'].append(train_results['accuracy'])\n",
    "    \n",
    "    # Validate\n",
    "    val_results = validate(model, val_loader, criterion, device)\n",
    "    history['val_loss'].append(val_results['loss'])\n",
    "    history['val_acc'].append(val_results['accuracy'])\n",
    "    \n",
    "    # Update learning rate\n",
    "    scheduler.step()\n",
    "    \n",
    "    print(f\"Train Loss: {train_results['loss']:.4f}, Accuracy: {train_results['accuracy']:.4f}\")\n",
    "    print(f\"Val Loss: {val_results['loss']:.4f}, Accuracy: {val_results['accuracy']:.4f}\")\n",
    "    \n",
    "    # Save best model\n",
    "    if val_results['accuracy'] > best_val_acc:\n",
    "        best_val_acc = val_results['accuracy']\n",
    "        torch.save({\n",
    "            'epoch': epoch,\n",
    "            'model_state_dict': model.state_dict(),\n",
    "            'optimizer_state_dict': optimizer.state_dict(),\n",
    "            'val_acc': best_val_acc,\n",
    "        }, '../checkpoints/best_model.pth')"
   ]
  },
  {
   "cell_type": "markdown",
   "metadata": {},
   "source": [
    "## 4. Training Visualization"
   ]
  },
  {
   "cell_type": "code",
   "execution_count": null,
   "metadata": {},
   "outputs": [],
   "source": [
    "# Plot training history\n",
    "plt.figure(figsize=(12, 4))\n",
    "\n",
    "# Loss plot\n",
    "plt.subplot(1, 2, 1)\n",
    "plt.plot(history['train_loss'], label='Train')\n",
    "plt.plot(history['val_loss'], label='Validation')\n",
    "plt.title('Loss')\n",
    "plt.xlabel('Epoch')\n",
    "plt.ylabel('Loss')\n",
    "plt.legend()\n",
    "\n",
    "# Accuracy plot\n",
    "plt.subplot(1, 2, 2)\n",
    "plt.plot(history['train_acc'], label='Train')\n",
    "plt.plot(history['val_acc'], label='Validation')\n",
    "plt.title('Accuracy')\n",
    "plt.xlabel('Epoch')\n",
    "plt.ylabel('Accuracy')\n",
    "plt.legend()\n",
    "\n",
    "plt.tight_layout()\n",
    "plt.show()"
   ]
  },
  {
   "cell_type": "markdown",
   "metadata": {},
   "source": [
    "## 5. Model Evaluation"
   ]
  },
  {
   "cell_type": "code",
   "execution_count": null,
   "metadata": {},
   "outputs": [],
   "source": [
    "# Load best model\n",
    "best_model = ResNet18().to(device)\n",
    "checkpoint = torch.load('../checkpoints/best_model.pth')\n",
    "best_model.load_state_dict(checkpoint['model_state_dict'])\n",
    "\n",
    "# Evaluate on test set\n",
    "test_metrics = MetricsTracker()\n",
    "best_model.eval()\n",
    "\n",
    "with torch.no_grad():\n",
    "    for inputs, labels in tqdm(test_loader, desc=\"Testing\"):\n",
    "        inputs, labels = inputs.to(device), labels.to(device)\n",
    "        outputs = best_model(inputs)\n",
    "        loss = criterion(outputs, labels)\n",
    "        test_metrics.update(outputs, labels, loss)\n",
    "\n",
    "test_results = test_metrics.get_metrics()\n",
    "print(f\"\\nTest Loss: {test_results['loss']:.4f}, Accuracy: {test_results['accuracy']:.4f}\")\n",
    "\n",
    "# Plot confusion matrix\n",
    "test_metrics.plot_confusion_matrix()\n",
    "\n",
    "# Print classification report\n",
    "test_metrics.print_classification_report()"
   ]
  },
  {
   "cell_type": "markdown",
   "metadata": {},
   "source": [
    "## 6. Model Predictions Visualization"
   ]
  },
  {
   "cell_type": "code",
   "execution_count": null,
   "metadata": {},
   "outputs": [],
   "source": [
    "def show_predictions(model, loader, num_images=8):\n",
    "    \"\"\"Display model predictions alongside true labels\"\"\"\n",
    "    model.eval()\n",
    "    images, labels = next(iter(loader))\n",
    "    images, labels = images.to(device), labels.to(device)\n",
    "    \n",
    "    with torch.no_grad():\n",
    "        outputs = model(images)\n",
    "        _, preds = torch.max(outputs, 1)\n",
    "    \n",
    "    plt.figure(figsize=(15, 8))\n",
    "    for i in range(num_images):\n",
    "        plt.subplot(2, num_images//2, i+1)\n",
    "        img = inverse_normalize(images[i].cpu())\n",
    "        img = img.permute(1, 2, 0).numpy()\n",
    "        img = np.clip(img, 0, 1)\n",
    "        plt.imshow(img)\n",
    "        \n",
    "        color = 'green' if preds[i] == labels[i] else 'red'\n",
    "        plt.title(f'Pred: {CLASSES[preds[i]]}\\nTrue: {CLASSES[labels[i]]}',\n",
    "                  color=color)\n",
    "        plt.axis('off')\n",
    "    plt.tight_layout()\n",
    "    plt.show()\n",
    "\n",
    "# Show predictions on test set\n",
    "show_predictions(best_model, test_loader)"
   ]
  }
 ],
 "metadata": {
  "kernelspec": {
   "display_name": "Python 3 (ipykernel)",
   "language": "python",
   "name": "python3"
  },
  "language_info": {
   "codemirror_mode": {
    "name": "ipython",
    "version": 3
   },
   "file_extension": ".py",
   "mimetype": "text/x-python",
   "name": "python",
   "nbconvert_exporter": "python",
   "pygments_lexer": "ipython3",
   "version": "3.12.3"
  }
 },
 "nbformat": 4,
 "nbformat_minor": 4
}
